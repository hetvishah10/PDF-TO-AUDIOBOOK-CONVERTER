{
 "cells": [
  {
   "cell_type": "markdown",
   "id": "5ddb2ce8",
   "metadata": {},
   "source": [
    "# Create an Audiobook from a PDF"
   ]
  },
  {
   "cell_type": "markdown",
   "id": "0a5cd14c",
   "metadata": {},
   "source": [
    "### Steps:\n",
    "- Extract text from PDF file\n",
    "- Clean the text\n",
    "- Convert the text into speech\n",
    "- Save the speech\n",
    "- Play the speech"
   ]
  },
  {
   "cell_type": "markdown",
   "id": "bc3b73b0",
   "metadata": {},
   "source": [
    "## 1. Extract text from PDF\n",
    "- Use PyPDF2"
   ]
  },
  {
   "cell_type": "markdown",
   "id": "340b3021",
   "metadata": {},
   "source": [
    "### Install the library"
   ]
  },
  {
   "cell_type": "code",
   "execution_count": 2,
   "id": "20172f34",
   "metadata": {},
   "outputs": [],
   "source": [
    "#! pip install PyPDF2"
   ]
  },
  {
   "cell_type": "markdown",
   "id": "16a31eca",
   "metadata": {},
   "source": [
    "### Import the library"
   ]
  },
  {
   "cell_type": "code",
   "execution_count": 3,
   "id": "680d7cf3",
   "metadata": {},
   "outputs": [],
   "source": [
    "from PyPDF2 import PdfReader"
   ]
  },
  {
   "cell_type": "markdown",
   "id": "e9ff8cd0",
   "metadata": {},
   "source": [
    "### Extract the text"
   ]
  },
  {
   "cell_type": "code",
   "execution_count": 4,
   "id": "013188a5",
   "metadata": {},
   "outputs": [],
   "source": [
    "reader = PdfReader(\"Recipe.pdf\")\n",
    "text=\"\"\n",
    "for i in range(1):\n",
    "    page = reader.pages[i]\n",
    "    t = page.extract_text()\n",
    "    text=text+t"
   ]
  },
  {
   "cell_type": "markdown",
   "id": "f43b0973",
   "metadata": {},
   "source": [
    "### Print the extracted text"
   ]
  },
  {
   "cell_type": "code",
   "execution_count": 5,
   "id": "a13626c1",
   "metadata": {},
   "outputs": [
    {
     "name": "stdout",
     "output_type": "stream",
     "text": [
      "1\n",
      "MINUTE\n",
      "CHOCOLA TE\n",
      "FUDGE\n",
      "CAKE\n",
      "I n g r e d i e n t s\n",
      "●\n",
      "2\n",
      "tbsp\n",
      "dark\n",
      "chocolate\n",
      "●\n",
      "1\n",
      "tbsp\n",
      "butter\n",
      "●\n",
      "2\n",
      "tbsp\n",
      "caster\n",
      "sugar\n",
      "●\n",
      "2\n",
      "tbsp\n",
      "y ogurt\n",
      "●\n",
      "¼\n",
      "cup\n",
      "all\n",
      "purpose\n",
      "flour\n",
      "●\n",
      "1\n",
      "tbsp\n",
      "cocoa\n",
      "powder\n",
      "●\n",
      "⅛\n",
      "tsp\n",
      "baking\n",
      "powder\n",
      "●\n",
      "chocolate\n",
      "chips\n",
      "to\n",
      "top\n",
      "●\n",
      "v anilla\n",
      "icecream\n",
      "to\n",
      "serv e\n",
      "I n s t r u c t i o n s\n",
      "1.\n",
      "Melt\n",
      "chocolate\n",
      "and\n",
      "butter\n",
      "in\n",
      "the\n",
      "microw a v e\n",
      "2.\n",
      "Add\n",
      "in\n",
      "the\n",
      "sugar\n",
      "and\n",
      "y ogurt\n",
      "and\n",
      "mix\n",
      "well\n",
      "3.\n",
      "Lastly\n",
      "fold\n",
      "in\n",
      "all\n",
      "the\n",
      "dry\n",
      "ingredients\n",
      "and\n",
      "top\n",
      "some\n",
      "dark\n",
      "chocolate\n",
      "chips\n",
      "4.\n",
      "Cook\n",
      "in\n",
      "microw a v e\n",
      "for\n",
      "1\n",
      "minute\n",
      ",\n",
      "add\n",
      "some\n",
      "v anilla\n",
      "icecream\n",
      "and\n",
      "serv e\n",
      "hot.\n"
     ]
    }
   ],
   "source": [
    "print(text)"
   ]
  },
  {
   "cell_type": "markdown",
   "id": "fe3e2fc8",
   "metadata": {},
   "source": [
    "## 2. Convert the Text into Speech\n",
    "- Use **pyttsx3** OR **gTTS**\n",
    "- I used **gTTS**"
   ]
  },
  {
   "cell_type": "markdown",
   "id": "fd9a4c79",
   "metadata": {},
   "source": [
    "### Install the library"
   ]
  },
  {
   "cell_type": "code",
   "execution_count": 6,
   "id": "6ce40d5c",
   "metadata": {},
   "outputs": [],
   "source": [
    "#!pip install gtts"
   ]
  },
  {
   "cell_type": "markdown",
   "id": "6da313a5",
   "metadata": {},
   "source": [
    "### Import the library"
   ]
  },
  {
   "cell_type": "code",
   "execution_count": 7,
   "id": "89b9ffc9",
   "metadata": {},
   "outputs": [],
   "source": [
    "import os\n",
    "from gtts import gTTS"
   ]
  },
  {
   "cell_type": "markdown",
   "id": "e43a538b",
   "metadata": {},
   "source": [
    "### Initialize a Speaker object"
   ]
  },
  {
   "cell_type": "code",
   "execution_count": 8,
   "id": "575d3237",
   "metadata": {},
   "outputs": [],
   "source": [
    "language = 'en'"
   ]
  },
  {
   "cell_type": "markdown",
   "id": "4038283f",
   "metadata": {},
   "source": [
    "### Convert the text"
   ]
  },
  {
   "cell_type": "code",
   "execution_count": 9,
   "id": "13c56687",
   "metadata": {},
   "outputs": [],
   "source": [
    "speech = gTTS(text = text, lang = language, slow = False)"
   ]
  },
  {
   "cell_type": "markdown",
   "id": "b7eee1a5",
   "metadata": {},
   "source": [
    "### Save the audio"
   ]
  },
  {
   "cell_type": "code",
   "execution_count": 10,
   "id": "99058bdc",
   "metadata": {},
   "outputs": [],
   "source": [
    "speech.save('Audio_output.wav')"
   ]
  },
  {
   "cell_type": "code",
   "execution_count": null,
   "id": "6c3665d6",
   "metadata": {},
   "outputs": [],
   "source": []
  }
 ],
 "metadata": {
  "kernelspec": {
   "display_name": "Python 3 (ipykernel)",
   "language": "python",
   "name": "python3"
  },
  "language_info": {
   "codemirror_mode": {
    "name": "ipython",
    "version": 3
   },
   "file_extension": ".py",
   "mimetype": "text/x-python",
   "name": "python",
   "nbconvert_exporter": "python",
   "pygments_lexer": "ipython3",
   "version": "3.10.9"
  }
 },
 "nbformat": 4,
 "nbformat_minor": 5
}
